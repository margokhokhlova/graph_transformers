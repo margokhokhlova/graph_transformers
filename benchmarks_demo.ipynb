{
 "cells": [
  {
   "cell_type": "markdown",
   "metadata": {},
   "source": [
    "## Benchmarks\n",
    "This demo shows the performance of other SOTA graph embeddings methods and their limitations:\n",
    "they do not take attributes into account (only can handle discreet attributes)\n",
    "they are very dependable onto the reinitialization of the random walks and minor graph changes"
   ]
  },
  {
   "cell_type": "code",
   "execution_count": 5,
   "metadata": {},
   "outputs": [],
   "source": [
    "import os,sys\n",
    "import random\n",
    "import numpy as np\n",
    "import networkx as nx\n",
    "\n",
    "sys.path.append(os.path.realpath('lib'))\n",
    "from lib.data_loader import load_local_data\n",
    "from benchmarks.sub2vec import Sub2vec"
   ]
  },
  {
   "cell_type": "markdown",
   "metadata": {},
   "source": [
    "### sub2vec demo"
   ]
  },
  {
   "cell_type": "code",
   "execution_count": 6,
   "metadata": {},
   "outputs": [
    {
     "name": "stdout",
     "output_type": "stream",
     "text": [
      "Total vects  2000\n",
      "(2000, 128)\n"
     ]
    }
   ],
   "source": [
    "dataset_n='aids'\n",
    "path='data/'\n",
    "X,y=load_local_data(path,dataset_n, attributes=False, use_node_deg=False)\n",
    "sub2vec = Sub2vec(property='s', walkLength=100, output='aids_walk', d=128, iter=100, windowSize=2, p=0.5, model='dm')\n",
    "sub2vec.obtainRandomWalks(X)\n",
    "embeddings = sub2vec.calculateEmbeddings()\n",
    "print(embeddings.shape)"
   ]
  },
  {
   "cell_type": "code",
   "execution_count": null,
   "metadata": {},
   "outputs": [],
   "source": [
    "# re-calculate the embeddings and demonstrate that the cosine similarity doesn't work within rounds "
   ]
  },
  {
   "cell_type": "code",
   "execution_count": 8,
   "metadata": {},
   "outputs": [
    {
     "name": "stdout",
     "output_type": "stream",
     "text": [
      "Total vects  2000\n"
     ]
    }
   ],
   "source": [
    "sub2vec.obtainRandomWalks(X)\n",
    "embeddings2 = sub2vec.calculateEmbeddings()\n"
   ]
  },
  {
   "cell_type": "code",
   "execution_count": 10,
   "metadata": {},
   "outputs": [
    {
     "name": "stdout",
     "output_type": "stream",
     "text": [
      "Similarity of two graphs within rounds is [[-0.02972129]]\n",
      "Similarity of two graphs within rounds is [[-0.00695749]]\n",
      "Similarity of two graphs within rounds is [[0.18097776]]\n",
      "Similarity of two graphs within rounds is [[-0.0468096]]\n",
      "Similarity of two graphs within rounds is [[-0.0196318]]\n",
      "Similarity of two graphs within rounds is [[0.0975268]]\n",
      "Similarity of two graphs within rounds is [[-0.0731004]]\n",
      "Similarity of two graphs within rounds is [[0.06960186]]\n",
      "Similarity of two graphs within rounds is [[0.00319865]]\n",
      "Similarity of two graphs within rounds is [[-0.16390699]]\n"
     ]
    }
   ],
   "source": [
    "# display cosine similarity for first 10 embeddings\n",
    "from sklearn.metrics.pairwise import cosine_similarity\n",
    "num_graphs, d = embeddings.shape\n",
    "random_graphs =  np.random.randint(0, num_graphs, size=(10))\n",
    "for i in random_graphs:\n",
    "    print(f\"Similarity of two graphs within rounds is {cosine_similarity(embeddings[i,:].reshape(1, -1), embeddings2[i,:].reshape(1, -1))}\")\n"
   ]
  },
  {
   "cell_type": "code",
   "execution_count": null,
   "metadata": {},
   "outputs": [],
   "source": [
    "# and now calculate the embeddings in one go and check whether they are similar or not this way"
   ]
  },
  {
   "cell_type": "code",
   "execution_count": null,
   "metadata": {},
   "outputs": [],
   "source": [
    "X_double = np.hstack((X,X))\n",
    "sub2vec.obtainRandomWalks(X_double)\n",
    "embeddings1_2 = sub2vec.calculateEmbeddings()\n"
   ]
  },
  {
   "cell_type": "code",
   "execution_count": 21,
   "metadata": {},
   "outputs": [
    {
     "name": "stdout",
     "output_type": "stream",
     "text": [
      "Similarity of two graphs from the same round is [[0.9879497]]\n",
      "Similarity of two graphs from the same round is [[0.97967386]]\n",
      "Similarity of two graphs from the same round is [[0.9444059]]\n",
      "Similarity of two graphs from the same round is [[0.9886148]]\n",
      "Similarity of two graphs from the same round is [[0.3091755]]\n",
      "Similarity of two graphs from the same round is [[0.97971815]]\n",
      "Similarity of two graphs from the same round is [[0.981849]]\n",
      "Similarity of two graphs from the same round is [[0.5953318]]\n",
      "Similarity of two graphs from the same round is [[0.9656513]]\n",
      "Similarity of two graphs from the same round is [[0.98958343]]\n"
     ]
    }
   ],
   "source": [
    "embeddings1 = embeddings1_2[:2000,:]\n",
    "embeddings2 = embeddings1_2[2000:,:]\n",
    "num_graphs, d = embeddings1.shape\n",
    "random_graphs =  np.random.randint(0, num_graphs, size=(10))\n",
    "for i in random_graphs:\n",
    "    print(f\"Similarity of two graphs from the same round is {cosine_similarity(embeddings1[i,:].reshape(1, -1), embeddings2[i,:].reshape(1, -1))}\")\n",
    "# much better but still very small at times, not consistent and these are the same graphs!"
   ]
  },
  {
   "cell_type": "code",
   "execution_count": 22,
   "metadata": {},
   "outputs": [],
   "source": [
    "# I modified the graphs removing one single (always connected only to one or max two neighbors node)"
   ]
  },
  {
   "cell_type": "code",
   "execution_count": null,
   "metadata": {},
   "outputs": [],
   "source": [
    "from copy import deepcopy\n",
    "def remove_single_node(graphs_list):\n",
    "    ''' function just removes a random node from a graph which has one or two neighbors'''\n",
    "    modified_graphs = []\n",
    "    for graph in graphs_list:\n",
    "        nx_graph = graph.nx_graph # get the graph\n",
    "        degree = nx_graph.degree\n",
    "        degreeDict = dict(degree)\n",
    "        random_nodes_to_delete = []\n",
    "        # pick nodes which have 1 neighbor only\n",
    "        for node, degree in degreeDict.items():\n",
    "            if degree == 1:\n",
    "                random_nodes_to_delete.append(node)\n",
    "        # else pick nodes which have 2 neighbors\n",
    "        if len(random_nodes_to_delete) == 0:\n",
    "            for node, degree in degreeDict.items():\n",
    "                if degree == 2:\n",
    "                    random_nodes_to_delete.append(node)\n",
    "        if len(random_nodes_to_delete)==0:\n",
    "            modified_graphs.append(graph) # leave the graph as it was\n",
    "            print('A graph which has no nodes with degrees 1 & 2 detected')\n",
    "        else:\n",
    "            copy_graph = deepcopy(graph) # create a new deep copy\n",
    "            copy_graph.nx_graph.remove_node(random.choice(random_nodes_to_delete))\n",
    "\n",
    "            modified_graphs.append(copy_graph)\n",
    "        #\n",
    "    return modified_graphs\n"
   ]
  },
  {
   "cell_type": "code",
   "execution_count": null,
   "metadata": {},
   "outputs": [],
   "source": [
    "subset_X = X[:10]\n",
    "modified_subset = remove_single_node(subset_X)\n",
    "print('done')\n",
    "for i in range(10):\n",
    "    print(f\"graph before modif has {len(subset_X[i].nx_graph)} and after modif {len(modified_subset[i].nx_graph)}\")\n"
   ]
  }
 ],
 "metadata": {
  "kernelspec": {
   "display_name": "Python 3",
   "language": "python",
   "name": "python3"
  },
  "language_info": {
   "codemirror_mode": {
    "name": "ipython",
    "version": 3
   },
   "file_extension": ".py",
   "mimetype": "text/x-python",
   "name": "python",
   "nbconvert_exporter": "python",
   "pygments_lexer": "ipython3",
   "version": "3.7.5"
  }
 },
 "nbformat": 4,
 "nbformat_minor": 2
}
