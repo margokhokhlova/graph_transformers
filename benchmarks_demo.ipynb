{
 "cells": [
  {
   "cell_type": "markdown",
   "metadata": {},
   "source": [
    "## Benchmarks\n",
    "This demo shows the performance of other SOTA graph embeddings methods and their limitations. Two main algoirthms tested are sub2vec and graph2vec.\n",
    "\n",
    "To test the algorithms, a third-party dataset presented in main_demo notebook is used. \n",
    "I verify whether the embedding methods are robust to:\n",
    "\n",
    "reinitialization\n",
    "\n",
    "node removal\n",
    "\n",
    "In the end of the demo graph kernels are briefly introduced, along with node2vec algo. "
   ]
  },
  {
   "cell_type": "code",
   "execution_count": 1,
   "metadata": {},
   "outputs": [],
   "source": [
    "import os,sys\n",
    "import random\n",
    "import numpy as np\n",
    "import networkx as nx\n",
    "\n",
    "from sklearn.metrics.pairwise import cosine_similarity\n",
    "\n",
    "sys.path.append(os.path.realpath('lib'))\n",
    "from lib.data_loader import load_local_data\n",
    "from benchmarks.sub2vec import Sub2vec\n"
   ]
  },
  {
   "cell_type": "markdown",
   "metadata": {},
   "source": [
    "## sub2vec demo"
   ]
  },
  {
   "cell_type": "markdown",
   "metadata": {},
   "source": [
    "In this approach the authours were inspired by the paragraph2vec method of paragrahps embeddings. The algorithm creates sub-graph embeddings which take neighborhood or structural information (separately) into account. The neighborhood information is similar to node2vec (i.e an node ID), the structural infromation of each node is represented as a ratio of node degree to the size of  a subgraph. \n",
    "\n",
    "The algorithm is based on random walks, where the graph-paths track how the density of edges changes in a neighbourhood. The nodes are coded (depending on their degree/graph size ratio - structural, on their id - neighborhood) into a log scale vocabulary. To learn the final embeddings, researchers propose two methods exising in word3vec model: sub2vec-DM (predicting neigh node and graph) and sud2vec-DBON (co-occurence based learning). Negative samling is used as in word2vec. The idea of the method is the following - graphs which have common nodes should have similar embeddings.\n",
    "\n",
    "Algo\n",
    "\n",
    "Require: Graph G, subgraph set S = {g1, g2, . . . , gn}, length of the context window w, dimension d \n",
    "\n",
    "1: walkSet = {} \n",
    "\n",
    "2: for each gi in s do \n",
    "\n",
    "3: walk = RandomWalk (gi) \n",
    "\n",
    "4: walkSet[gi] = walk \n",
    "\n",
    "5: end for \n",
    "\n",
    "6: f = StochasticGradientDescent(walkSet, d, w) \n",
    "\n",
    "7: return f\n"
   ]
  },
  {
   "cell_type": "code",
   "execution_count": 14,
   "metadata": {},
   "outputs": [
    {
     "name": "stdout",
     "output_type": "stream",
     "text": [
      "Total vects  2000\n",
      "(2000, 128)\n"
     ]
    }
   ],
   "source": [
    "dataset_n='aids' # the IGN  and BZR are the alternative datasets\n",
    "path='data/'\n",
    "X,y=load_local_data(path,dataset_n, attributes=False, use_node_deg=False)\n",
    "sub2vec = Sub2vec(property='s', walkLength=1000, output='aids_walk', d=128, iter=100, windowSize=2, p=0.5, model='dm')\n",
    "# the parameters chosen are the ones from the paper, I only modified the walklenght for a smalled dataset\n",
    "sub2vec.obtainRandomWalks(X)\n",
    "embeddings = sub2vec.calculateEmbeddings()\n",
    "print(embeddings.shape)"
   ]
  },
  {
   "cell_type": "code",
   "execution_count": 3,
   "metadata": {},
   "outputs": [],
   "source": [
    "# re-calculate the embeddings and demonstrate that the cosine similarity doesn't work within rounds "
   ]
  },
  {
   "cell_type": "code",
   "execution_count": 56,
   "metadata": {},
   "outputs": [
    {
     "name": "stdout",
     "output_type": "stream",
     "text": [
      "Total vects  2000\n"
     ]
    }
   ],
   "source": [
    "sub2vec.obtainRandomWalks(X)\n",
    "embeddings2 = sub2vec.calculateEmbeddings()\n"
   ]
  },
  {
   "cell_type": "code",
   "execution_count": 61,
   "metadata": {},
   "outputs": [
    {
     "name": "stdout",
     "output_type": "stream",
     "text": [
      "Similarity of two graphs within rounds is [[0.06005514]]\n",
      "Similarity of two graphs within rounds is [[0.13349625]]\n",
      "Similarity of two graphs within rounds is [[0.09431593]]\n",
      "Similarity of two graphs within rounds is [[0.05708874]]\n",
      "Similarity of two graphs within rounds is [[-0.0155139]]\n",
      "Similarity of two graphs within rounds is [[0.17029813]]\n",
      "Similarity of two graphs within rounds is [[0.12372799]]\n",
      "Similarity of two graphs within rounds is [[-0.03390585]]\n",
      "Similarity of two graphs within rounds is [[0.16328917]]\n",
      "Similarity of two graphs within rounds is [[0.24532312]]\n"
     ]
    }
   ],
   "source": [
    "# display cosine similarity for first 10 embeddings\n",
    "num_graphs, d = embeddings.shape\n",
    "random_graphs =  np.random.randint(0, num_graphs, size=(10))\n",
    "for i in random_graphs:\n",
    "    print(f\"Similarity of two graphs within rounds is {cosine_similarity(embeddings[i,:].reshape(1, -1), embeddings2[i,:].reshape(1, -1))}\")\n"
   ]
  },
  {
   "cell_type": "code",
   "execution_count": 15,
   "metadata": {},
   "outputs": [],
   "source": [
    "# function to calculate all the values and display stats\n",
    "def meanstd_similarity(emb1, emb2):\n",
    "    res_similarity = []\n",
    "    num_graphs, d = emb1.shape\n",
    "    for i in range(num_graphs):\n",
    "        res_similarity.append(cosine_similarity(emb1[i,:].reshape(1, -1), emb2[i,:].reshape(1, -1))[0][0])\n",
    "    print(f\"Mean cosine similarity is {np.mean(res_similarity)}, std is {np.std(res_similarity)} for the pairwise comparison if {num_graphs} graphs\")  \n"
   ]
  },
  {
   "cell_type": "code",
   "execution_count": 35,
   "metadata": {},
   "outputs": [
    {
     "name": "stdout",
     "output_type": "stream",
     "text": [
      "Mean cosine similarity is 0.11877530068159103, std is 0.15287145972251892 for the pairwise comparison if 2000 graphs\n"
     ]
    }
   ],
   "source": [
    "meanstd_similarity(emb1 = embeddings, emb2 = embeddings2)"
   ]
  },
  {
   "cell_type": "code",
   "execution_count": 33,
   "metadata": {},
   "outputs": [],
   "source": [
    "# and now calculate the embeddings in one go (in one round) and check whether they are similar or not this way"
   ]
  },
  {
   "cell_type": "code",
   "execution_count": 25,
   "metadata": {},
   "outputs": [
    {
     "name": "stdout",
     "output_type": "stream",
     "text": [
      "Total vects  4000\n"
     ]
    }
   ],
   "source": [
    "X_double = np.hstack((X,X))\n",
    "sub2vec.obtainRandomWalks(X_double)\n",
    "embeddings1_2 = sub2vec.calculateEmbeddings()"
   ]
  },
  {
   "cell_type": "code",
   "execution_count": 36,
   "metadata": {},
   "outputs": [
    {
     "name": "stdout",
     "output_type": "stream",
     "text": [
      "Similarity of two graphs from the same round is [[0.9857781]]\n",
      "Similarity of two graphs from the same round is [[0.98320913]]\n",
      "Similarity of two graphs from the same round is [[0.9268111]]\n",
      "Similarity of two graphs from the same round is [[0.95995694]]\n",
      "Similarity of two graphs from the same round is [[0.9697628]]\n",
      "Similarity of two graphs from the same round is [[0.8995649]]\n",
      "Similarity of two graphs from the same round is [[0.93944114]]\n",
      "Similarity of two graphs from the same round is [[0.9864575]]\n",
      "Similarity of two graphs from the same round is [[0.94997174]]\n",
      "Similarity of two graphs from the same round is [[0.9463763]]\n"
     ]
    }
   ],
   "source": [
    "embeddings1 = embeddings1_2[:2000,:]\n",
    "embeddings2 = embeddings1_2[2000:,:]\n",
    "num_graphs, d = embeddings1.shape\n",
    "random_graphs =  np.random.randint(0, num_graphs, size=(10))\n",
    "for i in random_graphs:\n",
    "    print(f\"Similarity of two graphs from the same round is {cosine_similarity(embeddings1[i,:].reshape(1, -1), embeddings2[i,:].reshape(1, -1))}\")\n",
    "# much better but still very small at times, not consistent and these are the exactly same graphs!"
   ]
  },
  {
   "cell_type": "code",
   "execution_count": 37,
   "metadata": {},
   "outputs": [
    {
     "name": "stdout",
     "output_type": "stream",
     "text": [
      "Mean cosine similarity is 0.9380630850791931, std is 0.10485057532787323 for the pairwise comparison if 2000 graphs\n"
     ]
    }
   ],
   "source": [
    "meanstd_similarity(emb1 = embeddings1, emb2 = embeddings2)"
   ]
  },
  {
   "cell_type": "code",
   "execution_count": 69,
   "metadata": {},
   "outputs": [],
   "source": [
    "# I modified the graphs removing one single (always connected only to one or max two neighbors node)"
   ]
  },
  {
   "cell_type": "code",
   "execution_count": 16,
   "metadata": {},
   "outputs": [],
   "source": [
    "from copy import deepcopy\n",
    "def remove_single_node(graphs_list):\n",
    "    ''' function just removes a random node from a graph which has one or two neighbors'''\n",
    "    modified_graphs = []\n",
    "    for graph in graphs_list:\n",
    "        nx_graph = graph.nx_graph # get the graph\n",
    "        degree = nx_graph.degree\n",
    "        degreeDict = dict(degree)\n",
    "        random_nodes_to_delete = []\n",
    "        # pick nodes which have 1 neighbor only\n",
    "        for node, degree in degreeDict.items():\n",
    "            if degree == 1:\n",
    "                random_nodes_to_delete.append(node)\n",
    "        # else pick nodes which have 2 neighbors\n",
    "        if len(random_nodes_to_delete) == 0:\n",
    "            for node, degree in degreeDict.items():\n",
    "                if degree == 2:\n",
    "                    random_nodes_to_delete.append(node)\n",
    "        if len(random_nodes_to_delete)==0:\n",
    "            modified_graphs.append(graph) # leave the graph as it was\n",
    "            print('A graph which has no nodes with degrees 1 & 2 detected')\n",
    "        else:\n",
    "            copy_graph = deepcopy(graph) # create a new deep copy\n",
    "            copy_graph.nx_graph.remove_node(random.choice(random_nodes_to_delete))\n",
    "\n",
    "            modified_graphs.append(copy_graph)\n",
    "        #\n",
    "    return modified_graphs\n"
   ]
  },
  {
   "cell_type": "code",
   "execution_count": 39,
   "metadata": {},
   "outputs": [
    {
     "name": "stdout",
     "output_type": "stream",
     "text": [
      "done\n",
      "graph before modif has 47 and after modif 46\n",
      "graph before modif has 11 and after modif 10\n",
      "graph before modif has 9 and after modif 8\n",
      "graph before modif has 10 and after modif 9\n",
      "graph before modif has 16 and after modif 15\n",
      "graph before modif has 9 and after modif 8\n",
      "graph before modif has 11 and after modif 10\n",
      "graph before modif has 10 and after modif 9\n",
      "graph before modif has 17 and after modif 16\n",
      "graph before modif has 9 and after modif 8\n"
     ]
    }
   ],
   "source": [
    "# a small unit test of a function above\n",
    "subset_X = X[:10]\n",
    "modified_subset = remove_single_node(subset_X)\n",
    "print('done')\n",
    "for i in range(10):\n",
    "    print(f\"graph before modif has {len(subset_X[i].nx_graph)} and after modif {len(modified_subset[i].nx_graph)}\")\n"
   ]
  },
  {
   "cell_type": "markdown",
   "metadata": {},
   "source": [
    "And now check if the resulting embeddings are different"
   ]
  },
  {
   "cell_type": "code",
   "execution_count": 17,
   "metadata": {},
   "outputs": [
    {
     "name": "stdout",
     "output_type": "stream",
     "text": [
      "A graph which has no nodes with degrees 1 & 2 detected\n",
      "A graph which has no nodes with degrees 1 & 2 detected\n",
      "Total vects  4000\n"
     ]
    }
   ],
   "source": [
    "X_modified =  remove_single_node(X)\n",
    "X_modified =  remove_single_node(X_modified) #remove second node\n",
    "X_original_and_modidied = np.hstack((X,X_modified))\n",
    "sub2vec.obtainRandomWalks(X_original_and_modidied)\n",
    "embeddings1_2 = sub2vec.calculateEmbeddings()"
   ]
  },
  {
   "cell_type": "code",
   "execution_count": 18,
   "metadata": {},
   "outputs": [
    {
     "name": "stdout",
     "output_type": "stream",
     "text": [
      "Similarity of two graphs with a single node removed is [[0.8034649]]\n",
      "Similarity of two graphs with a single node removed is [[0.84938514]]\n",
      "Similarity of two graphs with a single node removed is [[0.9531997]]\n",
      "Similarity of two graphs with a single node removed is [[0.8750119]]\n",
      "Similarity of two graphs with a single node removed is [[0.8334495]]\n",
      "Similarity of two graphs with a single node removed is [[0.83803713]]\n",
      "Similarity of two graphs with a single node removed is [[0.90148735]]\n",
      "Similarity of two graphs with a single node removed is [[0.45095015]]\n",
      "Similarity of two graphs with a single node removed is [[0.6835461]]\n",
      "Similarity of two graphs with a single node removed is [[0.7864645]]\n"
     ]
    }
   ],
   "source": [
    "embeddings1 = embeddings1_2[:2000,:]\n",
    "embeddings2 = embeddings1_2[2000:,:]\n",
    "num_graphs, d = embeddings1.shape\n",
    "random_graphs =  np.random.randint(0, num_graphs, size=(10))\n",
    "for i in random_graphs:\n",
    "    print(f\"Similarity of two graphs with a single node removed is {cosine_similarity(embeddings1[i,:].reshape(1, -1), embeddings2[i,:].reshape(1, -1))}\")\n",
    "# sometimes the change is significant."
   ]
  },
  {
   "cell_type": "code",
   "execution_count": 19,
   "metadata": {},
   "outputs": [
    {
     "name": "stdout",
     "output_type": "stream",
     "text": [
      "Mean cosine similarity is 0.7883523106575012, std is 0.18132445216178894 for the pairwise comparison if 2000 graphs\n"
     ]
    }
   ],
   "source": [
    "meanstd_similarity(emb1 = embeddings1, emb2 = embeddings2)"
   ]
  },
  {
   "cell_type": "markdown",
   "metadata": {},
   "source": [
    "### Conclusion Sub2Vec\n",
    "The results are not too bad, however, for some cases it is still a lot for the case when we need to compare the vectors. A complete disaster between runs - the embeddings are not coherent at all. They are probably affected quite a lot by the random walk. Quite sensitive to the removal of nodes.\n",
    "\n",
    "And the main problem with this method - we cannot really use the attributes which are [potentially] extremely important."
   ]
  },
  {
   "cell_type": "markdown",
   "metadata": {},
   "source": [
    "# Graph2Vec demo"
   ]
  },
  {
   "cell_type": "markdown",
   "metadata": {},
   "source": [
    "A method representing entire graphs as fixed length feature vectors - inspired by  neural document embedding models, the authors extend the same to learn graph embeddings.graph2vec proposes to view an entire graph as a document and the rooted subgraphs around every node in the graph as words that compose the document and extend document embedding neural networks to learn representations of entire graphs.\n",
    "\n",
    "An input of algorithms is a set of labeled or unlabeled graphs, in the case of unlabeled graphs  nodes are labeled  with their degree. In graph2vec,the are graphs analogical to documents that are composed of rooted subgraphs which, in turn, are\n",
    "analogical words from a special language and extend document embedding models to learn graph embeddings. The main motivation behind this idea is that structurally similar graphs will be close to each other in the embedding space. \n",
    "\n",
    "Algorithm: \n",
    "\n",
    "input -   Set of graphs\n",
    "\n",
    "1) extract rooted subgraphs and assign a unique\n",
    "label for all the rooted subgraphs in the vocabulary \n",
    "\n",
    "2) these hashed features (tags ( Weisfeiler-Lehman kernel decomposes a graph into subtrees ->https://www.cse.wustl.edu/~muhan/papers/KDD_2017.pdf) and node degrees (words) describe each sub-graph \n",
    "\n",
    "3) train a doc2vec skip-gram model using negative sampling. DBOW model is used."
   ]
  },
  {
   "cell_type": "code",
   "execution_count": 21,
   "metadata": {},
   "outputs": [],
   "source": [
    "import hashlib\n",
    "import tqdm\n",
    "from joblib import Parallel, delayed\n",
    "from gensim.models.doc2vec import Doc2Vec, TaggedDocument\n",
    "\n",
    "from benchmarks.graph2vec import feature_extractor # I modified the original code by the authors to directly use it on our data"
   ]
  },
  {
   "cell_type": "code",
   "execution_count": null,
   "metadata": {},
   "outputs": [],
   "source": [
    "dataset_n = 'aids'\n",
    "path = 'data/'\n",
    "X, y = load_local_data(path, dataset_n, attributes=False, use_node_deg=False)\n",
    "X = list(X)\n",
    "print(\"\\nFeature extraction started.\\n\")\n",
    "document_collections = Parallel(n_jobs=1)(delayed(feature_extractor)(g,2, str(i)) for i, g in enumerate(X))\n",
    "print(\"\\nOptimization started.\\n\")\n",
    "\n",
    "model = Doc2Vec(document_collections, vector_size = 128, window = 2, min_count = 5, dm = 0,\n",
    "                sample = 0.0001, workers = 10, epochs = 20, alpha =0.025)\n",
    "embeddings = model.docvecs.vectors_docs\n",
    "print(f\"Returned embeddings shape is {embeddings.shape}\")"
   ]
  },
  {
   "cell_type": "code",
   "execution_count": 45,
   "metadata": {},
   "outputs": [],
   "source": [
    "document_collections2 = Parallel(n_jobs=1)(delayed(feature_extractor)(g,2, str(i)) for i, g in enumerate(X))\n",
    "model = Doc2Vec(document_collections2, vector_size = 128, window = 2, min_count = 5, dm = 0,\n",
    "                sample = 0.0001, workers = 10, epochs = 20, alpha =0.025)\n",
    "embeddings2 = model.docvecs.vectors_docs"
   ]
  },
  {
   "cell_type": "markdown",
   "metadata": {},
   "source": [
    "Check the similarity of the graph embeddings within the runs"
   ]
  },
  {
   "cell_type": "code",
   "execution_count": 46,
   "metadata": {},
   "outputs": [
    {
     "name": "stdout",
     "output_type": "stream",
     "text": [
      "Similarity of two graphs within rounds is [[0.848712]]\n",
      "Similarity of two graphs within rounds is [[0.8972695]]\n",
      "Similarity of two graphs within rounds is [[0.8492506]]\n",
      "Similarity of two graphs within rounds is [[0.8924836]]\n",
      "Similarity of two graphs within rounds is [[0.77217966]]\n",
      "Similarity of two graphs within rounds is [[0.7804389]]\n",
      "Similarity of two graphs within rounds is [[0.87400985]]\n",
      "Similarity of two graphs within rounds is [[0.65968746]]\n",
      "Similarity of two graphs within rounds is [[0.8078866]]\n",
      "Similarity of two graphs within rounds is [[0.8581012]]\n"
     ]
    }
   ],
   "source": [
    "num_graphs, d = embeddings.shape\n",
    "random_graphs =  np.random.randint(0, num_graphs, size=(10))\n",
    "for i in random_graphs:\n",
    "    print(f\"Similarity of two graphs within rounds is {cosine_similarity(embeddings[i,:].reshape(1, -1), embeddings2[i,:].reshape(1, -1))}\")\n"
   ]
  },
  {
   "cell_type": "code",
   "execution_count": 47,
   "metadata": {},
   "outputs": [
    {
     "name": "stdout",
     "output_type": "stream",
     "text": [
      "Mean cosine similarity is 0.8272595405578613, std is 0.05931011587381363 for the pairwise comparison if 2000 graphs\n"
     ]
    }
   ],
   "source": [
    "meanstd_similarity(emb1 = embeddings, emb2 = embeddings2)"
   ]
  },
  {
   "cell_type": "code",
   "execution_count": null,
   "metadata": {},
   "outputs": [],
   "source": [
    "# Similarity in a  one run within the same graphs"
   ]
  },
  {
   "cell_type": "code",
   "execution_count": 48,
   "metadata": {},
   "outputs": [],
   "source": [
    "X_double = np.hstack((X,X))\n",
    "document_collections = Parallel(n_jobs=1)(delayed(feature_extractor)(g,2, str(i)) for i, g in enumerate(X_double))\n",
    "model = Doc2Vec(document_collections, vector_size = 128, window = 2, min_count = 5, dm = 0,\n",
    "                sample = 0.0001, workers = 10, epochs = 20, alpha =0.025)\n",
    "embeddings1_2 = model.docvecs.vectors_docs"
   ]
  },
  {
   "cell_type": "code",
   "execution_count": 50,
   "metadata": {},
   "outputs": [
    {
     "name": "stdout",
     "output_type": "stream",
     "text": [
      "Similarity of two graphs from the same round is [[0.9925771]]\n",
      "Similarity of two graphs from the same round is [[0.9945583]]\n",
      "Similarity of two graphs from the same round is [[0.9765564]]\n",
      "Similarity of two graphs from the same round is [[0.9957062]]\n",
      "Similarity of two graphs from the same round is [[0.98460644]]\n",
      "Similarity of two graphs from the same round is [[0.9907874]]\n",
      "Similarity of two graphs from the same round is [[0.98394835]]\n",
      "Similarity of two graphs from the same round is [[0.9813585]]\n",
      "Similarity of two graphs from the same round is [[0.9954908]]\n",
      "Similarity of two graphs from the same round is [[0.98716354]]\n"
     ]
    }
   ],
   "source": [
    "embeddings1 = embeddings1_2[:2000,:]\n",
    "embeddings2 = embeddings1_2[2000:,:]\n",
    "num_graphs, d = embeddings1.shape\n",
    "random_graphs =  np.random.randint(0, num_graphs, size=(10))\n",
    "for i in random_graphs:\n",
    "    print(f\"Similarity of two graphs from the same round is {cosine_similarity(embeddings1[i,:].reshape(1, -1), embeddings2[i,:].reshape(1, -1))}\")\n",
    "# this actually looks pretty good! So the WL labeling gives pretty good results in comparison with random walks "
   ]
  },
  {
   "cell_type": "code",
   "execution_count": 51,
   "metadata": {},
   "outputs": [
    {
     "name": "stdout",
     "output_type": "stream",
     "text": [
      "Mean cosine similarity is 0.9899162650108337, std is 0.01579388417303562 for the pairwise comparison if 2000 graphs\n"
     ]
    }
   ],
   "source": [
    "meanstd_similarity(emb1 = embeddings1, emb2 = embeddings2)"
   ]
  },
  {
   "cell_type": "markdown",
   "metadata": {},
   "source": [
    "Finally, check if the algo is robust for node removal "
   ]
  },
  {
   "cell_type": "code",
   "execution_count": 22,
   "metadata": {},
   "outputs": [],
   "source": [
    "#X_modified =  remove_single_node(X)\n",
    "X_original_and_modidied = np.hstack((X,X_modified))\n",
    "document_collections = Parallel(n_jobs=1)(delayed(feature_extractor)(g,2, str(i)) for i, g in enumerate(X_original_and_modidied))\n",
    "model = Doc2Vec(document_collections, vector_size = 128, window = 2, min_count = 5, dm = 0,\n",
    "                sample = 0.0001, workers = 10, epochs = 20, alpha =0.025)\n",
    "embeddings1_2 = model.docvecs.vectors_docs\n"
   ]
  },
  {
   "cell_type": "code",
   "execution_count": 23,
   "metadata": {},
   "outputs": [
    {
     "name": "stdout",
     "output_type": "stream",
     "text": [
      "Similarity of two graphs from the same round is [[0.59017116]]\n",
      "Similarity of two graphs from the same round is [[0.56813]]\n",
      "Similarity of two graphs from the same round is [[0.69048107]]\n",
      "Similarity of two graphs from the same round is [[0.33703303]]\n",
      "Similarity of two graphs from the same round is [[0.6379502]]\n",
      "Similarity of two graphs from the same round is [[0.4971013]]\n",
      "Similarity of two graphs from the same round is [[0.7801858]]\n",
      "Similarity of two graphs from the same round is [[0.40345317]]\n",
      "Similarity of two graphs from the same round is [[0.9749607]]\n",
      "Similarity of two graphs from the same round is [[0.50495076]]\n"
     ]
    }
   ],
   "source": [
    "embeddings1 = embeddings1_2[:2000,:]\n",
    "embeddings2 = embeddings1_2[2000:,:]\n",
    "num_graphs, d = embeddings1.shape\n",
    "random_graphs =  np.random.randint(0, num_graphs, size=(10))\n",
    "for i in random_graphs:\n",
    "    print(f\"Similarity of two graphs from the same round is {cosine_similarity(embeddings1[i,:].reshape(1, -1), embeddings2[i,:].reshape(1, -1))}\")\n",
    "# this is no longer good"
   ]
  },
  {
   "cell_type": "code",
   "execution_count": 24,
   "metadata": {},
   "outputs": [
    {
     "name": "stdout",
     "output_type": "stream",
     "text": [
      "Mean cosine similarity is 0.6250722408294678, std is 0.17743416130542755 for the pairwise comparison if 2000 graphs\n"
     ]
    }
   ],
   "source": [
    "meanstd_similarity(emb1 = embeddings1, emb2 = embeddings2)"
   ]
  },
  {
   "cell_type": "markdown",
   "metadata": {},
   "source": [
    "Not really robust to the graph modification, so this is a limitation of graph2vec. Ok within two runs, which makes this method more interesting for further work."
   ]
  },
  {
   "cell_type": "markdown",
   "metadata": {},
   "source": [
    "# Conclusion on two embedding methods"
   ]
  },
  {
   "cell_type": "markdown",
   "metadata": {},
   "source": [
    "Main disadvantages:\n",
    "Both algorithms do not take attributes into account ( they can only handle discreet attributes)\n",
    "they are very dependable onto the reinitialization of the random walks and minor graph changes.\n",
    "\n",
    "It will be awesome to allow to use node attributes of graphs in resulting embeddings. None of this algo uses weights of the edges either. \n",
    "\n",
    "It will be nice to have constant embeddings withing algorithm run but in the same moment to make them robust for minor graph \n",
    "changes. There are methods which allow for that (for example, subgraph matching kernel) - but they way too long to compute for a real-case scenario.\n",
    "If we could have had an embedding having better properties than the existing ones - it can be very interesting for some applications.\n"
   ]
  },
  {
   "cell_type": "markdown",
   "metadata": {},
   "source": [
    "# Node2Vec"
   ]
  },
  {
   "cell_type": "code",
   "execution_count": 2,
   "metadata": {},
   "outputs": [],
   "source": [
    "from benchmarks.node2vec.node2vec import Node2Vec\n",
    "import matplotlib.pyplot as plt"
   ]
  },
  {
   "cell_type": "markdown",
   "metadata": {},
   "source": [
    "This approach is very similar to word2vec embedding and is a direct improuvement of DeepWalk. The nodes are embedded based on their proximity and inter-connection, so connected node results in similar embeddings. The new idea in node2vec is the new sampling strategy allowing to explore the node neighborhood.\n",
    "\n",
    "The algorithm will take a big graph as an input, where nodes have unique labels. \n",
    "Then each node will be embedded and assigned a key-word (it's ID), and we can retrieve the embedding of the node using this ID.\n",
    "\n",
    "The algo is the following:\n",
    "\n",
    "1) For all nodes perform the pseudo-random walk of length n N-times. \n",
    "\n",
    "2) Calculate the embedding vectors for each node based on the walks - skip-gram Word2vec on walks.\n",
    "\n",
    "This way sentences are walks, formed by words (node ids) and we calculate an embedding based on that.\n",
    "\n",
    "A demo on node2vec can be found here [https://github.com/eliorc/Medium/blob/master/Nod2Vec-FIFA17-Example.ipynb].\n",
    "And I tried a small test of node2vec algo on a subset of graphs I have. \n"
   ]
  },
  {
   "cell_type": "code",
   "execution_count": 11,
   "metadata": {},
   "outputs": [],
   "source": [
    "dataset_n='aids' # the IGN  and BZR are the alternative datasets\n",
    "path='data/'\n",
    "X,y=load_local_data(path,dataset_n, attributes=False, use_node_deg=False)\n",
    "#create a single graph from several graphs \n",
    "subset_X = X[:10]\n",
    "# make a new graph as a combo of 10 graphs\n",
    "G=nx.Graph()\n",
    "for i in range(10):\n",
    "    G.add_nodes_from(subset_X[i].nx_graph.nodes(data=False))\n",
    "    G.add_edges_from(subset_X[i].nx_graph.edges)\n",
    "    \n",
    "# change all node attributes to unique node id_s\n",
    "atr = [range(len(G))]\n",
    "nx.set_node_attributes(G, atr, 'attr_name')"
   ]
  },
  {
   "cell_type": "code",
   "execution_count": 12,
   "metadata": {},
   "outputs": [
    {
     "data": {
      "image/png": "[encoded data removed]",
      "text/plain": [
       "<Figure size 576x576 with 1 Axes>"
      ]
     },
     "metadata": {},
     "output_type": "display_data"
    }
   ],
   "source": [
    "plt.figure(figsize=(8, 8))\n",
    "nx.draw(G, with_labels = True)"
   ]
  },
  {
   "cell_type": "code",
   "execution_count": 13,
   "metadata": {},
   "outputs": [
    {
     "name": "stderr",
     "output_type": "stream",
     "text": [
      "Computing transition probabilities: 100%|█████████████████████████████████████████| 149/149 [00:00<00:00, 21341.78it/s]\n"
     ]
    }
   ],
   "source": [
    "EMBEDDING_FILENAME = 'embeddings.emb'\n",
    "EMBEDDING_MODEL_FILENAME = 'embeddings.model'\n",
    "\n",
    "node2vec = Node2Vec(G, dimensions=54, walk_length=30, num_walks=10, workers=4)\n",
    "\n",
    "## if d_graph is big enough to fit in the memory, pass temp_folder which has enough disk space\n",
    "# Note: It will trigger \"sharedmem\" in Parallel, which will be slow on smaller graphs\n",
    "# node2vec = Node2Vec(graph, dimensions=64, walk_length=30, num_walks=200, workers=4, temp_folder=\"/mnt/tmp_data\")\n",
    "\n",
    "# Embed\n",
    "model = node2vec.fit(window=10, min_count=1, batch_words=20)# Any keywords acceptable by gensim.Word2Vec can be passed, `diemnsions` and `workers` are automatically passed (from the Node2Vec constructor)\n",
    "\n",
    "# Look for most similar nodes\n"
   ]
  },
  {
   "cell_type": "markdown",
   "metadata": {},
   "source": [
    "The networks learns the embedding for key-words, which are in this case node degrees.\n",
    "It can be changes so we use not the degrees but node ids, I need to look at it more."
   ]
  },
  {
   "cell_type": "code",
   "execution_count": 17,
   "metadata": {},
   "outputs": [
    {
     "data": {
      "text/plain": [
       "{'2': <gensim.models.keyedvectors.Vocab at 0x18abe881088>,\n",
       " '3': <gensim.models.keyedvectors.Vocab at 0x18abe881148>,\n",
       " '1': <gensim.models.keyedvectors.Vocab at 0x18abe881108>,\n",
       " '4': <gensim.models.keyedvectors.Vocab at 0x18abe881188>}"
      ]
     },
     "execution_count": 17,
     "metadata": {},
     "output_type": "execute_result"
    }
   ],
   "source": [
    "model.wv.vocab"
   ]
  },
  {
   "cell_type": "code",
   "execution_count": 21,
   "metadata": {},
   "outputs": [],
   "source": [
    "v2_1 = model.wv.get_vector('2')"
   ]
  },
  {
   "cell_type": "code",
   "execution_count": null,
   "metadata": {},
   "outputs": [],
   "source": [
    "# rerun and test similarity of the vectors to start with"
   ]
  },
  {
   "cell_type": "code",
   "execution_count": 23,
   "metadata": {},
   "outputs": [
    {
     "name": "stderr",
     "output_type": "stream",
     "text": [
      "Computing transition probabilities: 100%|█████████████████████████████████████████| 149/149 [00:00<00:00, 29884.82it/s]\n"
     ]
    }
   ],
   "source": [
    "node2vec = Node2Vec(G, dimensions=54, walk_length=30, num_walks=10, workers=4)\n",
    "\n",
    "## if d_graph is big enough to fit in the memory, pass temp_folder which has enough disk space\n",
    "# Note: It will trigger \"sharedmem\" in Parallel, which will be slow on smaller graphs\n",
    "# node2vec = Node2Vec(graph, dimensions=64, walk_length=30, num_walks=200, workers=4, temp_folder=\"/mnt/tmp_data\")\n",
    "\n",
    "# Embed\n",
    "model = node2vec.fit(window=10, min_count=1, batch_words=20)# Any keywords acceptable by gensim.Word2Vec can be passed, `diemnsions` and `workers` are automatically passed (from the Node2Vec constructor)\n",
    "v2_2 = model.wv.get_vector('2')"
   ]
  },
  {
   "cell_type": "code",
   "execution_count": 26,
   "metadata": {},
   "outputs": [
    {
     "name": "stdout",
     "output_type": "stream",
     "text": [
      "Similarity of two graphs 'key-words' from two different rounds is [[0.94477373]]\n"
     ]
    }
   ],
   "source": [
    "print(f\"Similarity of two graphs 'key-words' from two different rounds is {cosine_similarity(v2_1.reshape(1, -1), v2_2.reshape(1, -1))}\")"
   ]
  },
  {
   "cell_type": "markdown",
   "metadata": {},
   "source": [
    "## Conclusion on Node2Vec"
   ]
  },
  {
   "cell_type": "markdown",
   "metadata": {},
   "source": [
    "This algorithm is useful to create embeddings for nodes based on their neigborhood (hence, based on their structural role in the graph). However, once again, it is not using the attributes of the nodes and can handle only discreet attributes.\n",
    "\n",
    "In addition,  it is not clear how can we use it in our scenario of graph-mathing, although there are ways (to calculate an average embedding for all nodes being one of them)."
   ]
  },
  {
   "cell_type": "markdown",
   "metadata": {},
   "source": [
    "## Graph Kernels"
   ]
  },
  {
   "cell_type": "markdown",
   "metadata": {},
   "source": [
    "The problem of accurately measuring the similarity between graphs is at the core of many applications in a variety of disciplines. Graph kernels have recently emerged as a promising approach to this problem. There are now many kernels, each focusing on different structural aspects of graphs.\n",
    "\n",
    "The main interest using kernels is the fact that many are designed to work with node and edge attributes  -> hence, they can exploit more important information than the exisitng embedding methods and are better to use for matching.\n",
    "\n",
    "An example of a kernel function:\n",
    "Graph Hopper Kernel. Given two graphs, the GraphHopper kernel compares shortest paths between pairs of vertices from the two graphs [FKP+13]. The kernel takes into account both path lengths and the vertices encountered while \"hopping\" along shortest paths. The kernel is equivalent to a weighted sum of node kernels\n",
    "\n",
    "The prior tests on our data has shown the superiority of the Subgraph Matching Kernel over other tested graph kernels (GraphHopper,Hadamard Code Kernel, ODD-STh Kernel,SVM Theta Kernel etc)\n",
    "\n",
    "I use the grakel library for all kernel calculations:\n",
    "https://ysig.github.io/GraKeL/latest/user_manual/longer_introduction.html"
   ]
  },
  {
   "cell_type": "markdown",
   "metadata": {},
   "source": [
    "### Subgraph Matching Kernel"
   ]
  },
  {
   "cell_type": "markdown",
   "metadata": {},
   "source": [
    "The subgraph matching kernel counts the number of matchings between subgraphs of bounded size in two graphs [kriege2012subgraph]. The kernel is very general since it can be applied to graphs that contain node labels, edge labels, node attributes or edge attributes.\n",
    "\n",
    "Let G be a set of graphs. We assume that the graphs that are contained in the set are labeled or attributed. Specifically, let ℓ:V∪E→L be a labeling function that assigns either discrete labels or continuous attributes to vertices and edges. A graph isomorphism between two labeled/attributed graphs G=(V,E) and G′=(V′,E′) is a bijection ϕ:V→V′ that preserves adjacencies, ie ∀v,u∈V:(v,u)∈E⇔(ϕ(v),ϕ(u))∈E′, and labels, ie if ψ∈V×V→V′×V′ is the mapping of vertex pairs implicated by the bijection ϕ such that ψ((v,u))=(ϕ(v),ϕ(u)), then, the conditions ∀v∈V:ℓ(v)≡ℓ(ϕ(v)) and ∀e∈E:ℓ(e)≡ℓ(ψ(e)) must hold, where ≡ denotes that two labels are considered equivalent.\n",
    "\n",
    "Given two graphs G=(V,E) and G′=(V′,E′), let B(G,G′) denote the set of all bijections between sets S⊆V and S′⊆V′, and let λ:B(G,G′)→R+ be a weight function. The subgraph matching kernel is defined as\n",
    "\n",
    "k(G,G′)=∑ϕ∈B(G,G′)λ(ϕ)∏v∈SκV(v,ϕ(v))∏e∈S×SκE(e,ψ(e))\n",
    "where S=dom(ϕ) and κV,κE are kernel functions defined on vertices and edges, respectively.\n",
    "\n",
    "The instance of the subgraph matching kernel that is obtained if we set the κV,κE functions as follows\n",
    "\n",
    "κV(v,v′)κE(e,e′)={1,0,if ℓ(v)≡ℓ(v′),otherwise and={1,0,if e∈E∧e′∈E′∧ℓ(e)≡ℓ(e′) or e∉E∧e′∉E′,otherwise.\n",
    "is known as the common subgraph isomorphism kernel. This kernel counts the number of isomorphic subgraphs contained in two graphs.\n",
    "\n",
    "Paper link:\n",
    "https://arxiv.org/ftp/arxiv/papers/1206/1206.6483.pdf"
   ]
  },
  {
   "cell_type": "code",
   "execution_count": 2,
   "metadata": {},
   "outputs": [
    {
     "name": "stderr",
     "output_type": "stream",
     "text": [
      "C:\\Users\\mkhokhlova\\AppData\\Local\\Continuum\\anaconda3\\envs\\graphs37\\lib\\site-packages\\sklearn\\externals\\joblib\\__init__.py:15: DeprecationWarning: sklearn.externals.joblib is deprecated in 0.21 and will be removed in 0.23. Please import this functionality directly from joblib, which can be installed with: pip install joblib. If this warning is raised when loading pickled models, you may need to re-serialize those models with scikit-learn 0.21+.\n",
      "  warnings.warn(msg, category=DeprecationWarning)\n"
     ]
    }
   ],
   "source": [
    "from grakel.kernels import SubgraphMatching\n",
    "from grakel import GraphKernel\n",
    "from lib.grakels_dataloader import  read_data"
   ]
  },
  {
   "cell_type": "code",
   "execution_count": 51,
   "metadata": {},
   "outputs": [],
   "source": [
    "dataset_n='AIDS' # the IGN  and BZR are the alternative datasets\n",
    "path='D:/projects/graph_transformer/data/AIDS/'\n",
    "X = read_data(name = dataset_n,\n",
    "        with_classes=False,\n",
    "        prefer_attr_nodes=True,\n",
    "        prefer_attr_edges=False,\n",
    "        produce_labels_nodes=False,\n",
    "        as_graphs=False,\n",
    "        is_symmetric=1, path =path)"
   ]
  },
  {
   "cell_type": "code",
   "execution_count": 30,
   "metadata": {},
   "outputs": [],
   "source": [
    "sbm_kernel = GraphKernel(kernel = [{\"name\": \"subgraph_matching\"}], normalize = True) #Nystroem=20 Nystroem is very well known method, for approximating kernel matrices on huge datasets.\n",
    "#k:int, default=5\n",
    "#lw:str, valid_values={“uniform”, “increasing”, “decreasing”, “strong_decreasing”},\n",
    "#default=”uniform” | iterable, size=k+1,\n",
    "#| callable, num_of_arguments=1, argument_type=int\n",
    "#The lambda weights applied to the clique sizes.\n",
    "#kv:function (vertex_label, `vertex_label, -> number), or None\n",
    "#default=:math:`k_{v}^{default}(l(a), l(b))= delta(l(a), l(b))`\n",
    "#The kernel function between two vertex_labels. If no function is provided, this is equivalent with not taking into account node labels.\n",
    "#ke:function (edge_label, edge_label -> number),\n",
    "#default=:math:`k_{e}^{default}(l(e), l(e’))= delta(l(e), l(e’))`\n",
    "#The kernel function between two edge_labels. If no function is provided, this is equivalent with not taking into account edge labels."
   ]
  },
  {
   "cell_type": "code",
   "execution_count": 31,
   "metadata": {},
   "outputs": [],
   "source": [
    "from  sklearn.preprocessing import MinMaxScaler\n",
    "def mean_similarity_graph(D):\n",
    "    sim = 0\n",
    "    scaler = MinMaxScaler()\n",
    "    m = D.shape[0]\n",
    "    for i in range(m):\n",
    "        D[i,:] =  scaler.fit_transform(D[i,:].reshape(-1, 1)).reshape(D[i,:].shape)\n",
    "        sim+=D[i,i] # todo: maybe do a min max normalization here\n",
    "    return sim/m    "
   ]
  },
  {
   "cell_type": "code",
   "execution_count": 32,
   "metadata": {},
   "outputs": [
    {
     "data": {
      "text/plain": [
       "array([[1., 0., 0., ..., 0., 0., 0.],\n",
       "       [0., 1., 0., ..., 0., 0., 0.],\n",
       "       [0., 0., 1., ..., 0., 0., 0.],\n",
       "       ...,\n",
       "       [0., 0., 0., ..., 1., 0., 0.],\n",
       "       [0., 0., 0., ..., 0., 1., 0.],\n",
       "       [0., 0., 0., ..., 0., 0., 1.]])"
      ]
     },
     "execution_count": 32,
     "metadata": {},
     "output_type": "execute_result"
    }
   ],
   "source": [
    "sbm_kernel.fit_transform(X.data) # fit on the initial data"
   ]
  },
  {
   "cell_type": "code",
   "execution_count": 91,
   "metadata": {},
   "outputs": [],
   "source": [
    "### Test on node removal"
   ]
  },
  {
   "cell_type": "code",
   "execution_count": 62,
   "metadata": {},
   "outputs": [],
   "source": [
    "# from lib.grakels_dataloader import remove_single_node_grakels\n",
    "from random import randint\n",
    "def remove_single_node_grakels(graph):\n",
    "    for g in graph.data:\n",
    "        num_nodes =len(g[1])\n",
    "        node_to_delete = randint(0,num_nodes)\n",
    "        if node_to_delete in g[1]: del g[1][node_to_delete] # delete node\n",
    "        # delete all edges\n",
    "        new_set = set()\n",
    "        for el in g[0]:\n",
    "            if el[0]!=node_to_delete and el[1] != node_to_delete:\n",
    "                new_set.add(el)\n",
    "            else:\n",
    "                if el in g[2]: del g[2][el]  # delete node\n",
    "        g[0] = new_set\n",
    "    return graph\n",
    "X_modified = read_data(name = dataset_n,\n",
    "        with_classes=False,\n",
    "        prefer_attr_nodes=True,\n",
    "        prefer_attr_edges=False,\n",
    "        produce_labels_nodes=False,\n",
    "        as_graphs=False,\n",
    "        is_symmetric=1, path =path)\n",
    "\n",
    "X_modified = remove_single_node_grakels(X_modified)"
   ]
  },
  {
   "cell_type": "code",
   "execution_count": 34,
   "metadata": {},
   "outputs": [],
   "source": [
    "# transform on new data - will produce the matrix of distances\n",
    "X_Xm_similarity_matrix = sbm_kernel.transform(X_modified.data) # Rntest×Rntrain"
   ]
  },
  {
   "cell_type": "code",
   "execution_count": 35,
   "metadata": {},
   "outputs": [
    {
     "name": "stdout",
     "output_type": "stream",
     "text": [
      "Similarity of two graphs with a single node removed is 1.0\n",
      "Similarity of two graphs with a single node removed is 1.0\n",
      "Similarity of two graphs with a single node removed is 1.0\n",
      "Similarity of two graphs with a single node removed is 1.0\n",
      "Similarity of two graphs with a single node removed is 1.0\n",
      "Similarity of two graphs with a single node removed is 1.0\n",
      "Similarity of two graphs with a single node removed is 1.0\n",
      "Similarity of two graphs with a single node removed is 1.0\n",
      "Similarity of two graphs with a single node removed is 1.0\n",
      "Similarity of two graphs with a single node removed is 1.0\n"
     ]
    }
   ],
   "source": [
    "random_graphs =  np.random.randint(0, len(X_Xm_similarity_matrix), size=(10))\n",
    "for i in random_graphs:\n",
    "     print(f\"Similarity of two graphs with a single node removed is {X_Xm_similarity_matrix[i,i]}\")"
   ]
  },
  {
   "cell_type": "code",
   "execution_count": 36,
   "metadata": {},
   "outputs": [
    {
     "name": "stdout",
     "output_type": "stream",
     "text": [
      "Similarity of two graphs with a single node removed and all attributes modified is 1.0\n"
     ]
    }
   ],
   "source": [
    "print(f\"Similarity of two graphs with a single node removed and all attributes modified is {mean_similarity_graph(X_Xm_similarity_matrix)}\")"
   ]
  },
  {
   "cell_type": "markdown",
   "metadata": {},
   "source": [
    "So sub-graph matching is really fine with node removal etc as long as the attributes are not changed. \n",
    "What will happen if they will change?"
   ]
  },
  {
   "cell_type": "code",
   "execution_count": 53,
   "metadata": {},
   "outputs": [],
   "source": [
    "## test on attribute modifications\n",
    "def modify_attributes_grakels(graph):\n",
    "    for g in graph.data:\n",
    "        for i in g[1].keys():\n",
    "            for k in range(len(g[1][i])):\n",
    "                g[1][i][k]+=random.random() # add random val to the attribute\n",
    "    return graph\n",
    "X_modified =  modify_attributes_grakels(X_modified)"
   ]
  },
  {
   "cell_type": "code",
   "execution_count": 111,
   "metadata": {},
   "outputs": [],
   "source": [
    "X_Xm_similarity_matrix = sbm_kernel.transform(X_modified.data) # Rntest×Rntrain"
   ]
  },
  {
   "cell_type": "code",
   "execution_count": 117,
   "metadata": {},
   "outputs": [
    {
     "name": "stdout",
     "output_type": "stream",
     "text": [
      "Similarity of two graphs with a single node removed and all attributes modified is 0.0\n",
      "Similarity of two graphs with a single node removed and all attributes modified is 0.0\n",
      "Similarity of two graphs with a single node removed and all attributes modified is 0.0\n",
      "Similarity of two graphs with a single node removed and all attributes modified is 0.0\n",
      "Similarity of two graphs with a single node removed and all attributes modified is 0.0\n",
      "Similarity of two graphs with a single node removed and all attributes modified is 0.0\n",
      "Similarity of two graphs with a single node removed and all attributes modified is 0.0\n",
      "Similarity of two graphs with a single node removed and all attributes modified is 0.0\n",
      "Similarity of two graphs with a single node removed and all attributes modified is 0.0\n",
      "Similarity of two graphs with a single node removed and all attributes modified is 0.0\n"
     ]
    }
   ],
   "source": [
    "random_graphs =  np.random.randint(0, len(X_Xm_similarity_matrix), size=(10))\n",
    "for i in random_graphs:\n",
    "     print(f\"Similarity of two graphs with a single node removed and all attributes modified is {X_Xm_similarity_matrix[i,i]}\")"
   ]
  },
  {
   "cell_type": "markdown",
   "metadata": {},
   "source": [
    "This shows that the kernel cannot deal with a change of the attributes. Although, this can be fixed by getting an appropriate kernel to compare them. Here is an example."
   ]
  },
  {
   "cell_type": "code",
   "execution_count": null,
   "metadata": {},
   "outputs": [],
   "source": [
    "# it is also possible to simplify the calculations of graph kernels but usually it also reduces their accuracy\n",
    "# and any sklearn kernel can be later used on the obtained features\n",
    "from sklearn.metrics.pairwise import pairwise_kernels\n",
    "dataset_n='AIDS' # the IGN  and BZR are the alternative datasets\n",
    "path='D:/projects/graph_transformer/data/AIDS/'\n",
    "X = read_data(name = dataset_n,\n",
    "        with_classes=False,\n",
    "        prefer_attr_nodes=True,\n",
    "        prefer_attr_edges=False,\n",
    "        produce_labels_nodes=False,\n",
    "        as_graphs=False,\n",
    "        is_symmetric=1, path =path)\n",
    "\n",
    "#GH_kernel = SubgraphMatching(normalize=False, verbose = True) # by defenition function kv is int(a == b)\n",
    "def _comp_func(a, b):\n",
    "    \"\"\"Calculate the new distance function for labels.\"\"\"\n",
    "    return sum([abs(a_i - b_i)<0.2 for a_i, b_i in zip(a, b)]) # we can define any function we want on the attributes \n",
    "\n",
    "\n",
    "\n",
    "sbm_kernel = GraphKernel(kernel = [{\"name\": \"subgraph_matching\", \"kv\":_comp_func}], normalize = True, Nystroem=10) #Nystroem=20 Nystroem is very well known method, for approximating kernel matrices on huge datasets.\n",
    "X_fitted = sbm_kernel.fit_transform(X.data) # fit on the initial data\n",
    "\n",
    "X_modified = read_data(name = dataset_n,\n",
    "        with_classes=False,\n",
    "        prefer_attr_nodes=True,\n",
    "        prefer_attr_edges=False,\n",
    "        produce_labels_nodes=False,\n",
    "        as_graphs=False,\n",
    "        is_symmetric=1, path =path)\n",
    "\n",
    "X_modified =  modify_attributes_grakels(X_modified)\n",
    "Xm_fitted = sbm_kernel.transform(X_modified.data) # Rntest×Rntrain\n",
    "X_Xm_similarity_matrix = pairwise_kernels(X_fitted, Xm_fitted, metric='cosine') # compare now the features\n",
    "random_graphs =  np.random.randint(0, len(X_Xm_similarity_matrix), size=(10))\n",
    "for i in random_graphs:\n",
    "     print(f\"Similarity of two graphs with a single node removed and all attributes modified is {X_Xm_similarity_matrix[i,i]}\")"
   ]
  },
  {
   "cell_type": "code",
   "execution_count": 16,
   "metadata": {},
   "outputs": [
    {
     "name": "stdout",
     "output_type": "stream",
     "text": [
      "Similarity of two graphs with a single node removed and all attributes modified is 0.5973781044868414\n"
     ]
    }
   ],
   "source": [
    "print(f\"Similarity of two graphs with a single node removed and all attributes modified is {mean_similarity_graph(X_Xm_similarity_matrix)}\")"
   ]
  },
  {
   "cell_type": "markdown",
   "metadata": {},
   "source": [
    "### Graphlet sampling kernels"
   ]
  },
  {
   "cell_type": "markdown",
   "metadata": {},
   "source": [
    "The graphlet sampling kernel decomposes graphs into graphlets (i.e. small subgraphs with k nodes where k∈{3,4,5,…}) [prvzulj2007biological] and counts matching graphlets in the input graphs.\n",
    "Let G={graphlet1,graphlet2,…,graphletr} be the set of size-k graphlets.\n",
    "Let also fG∈Nr be a vector such that its i-th entry is equal to the frequency of occurrence of graphlet i in G, fG,i=#(graphleti⊑G). Then, the graphlet kernel is defined as follows:\n",
    "\n",
    "k(Gi,Gj)=f(⊤ransopose(Gi)) f(Gj)"
   ]
  },
  {
   "cell_type": "code",
   "execution_count": 54,
   "metadata": {},
   "outputs": [],
   "source": [
    "gs_kernel = GraphKernel(kernel=dict(name=\"graphlet_sampling\", sampling=dict(n_samples=15)),normalize = True)"
   ]
  },
  {
   "cell_type": "code",
   "execution_count": 60,
   "metadata": {},
   "outputs": [
    {
     "name": "stdout",
     "output_type": "stream",
     "text": [
      "Similarity of two graphs with a single node removed and all attributes modified is 0.5516902572256424\n",
      "Similarity of two graphs with a single node removed and all attributes modified is 0.6285582471700375\n",
      "Similarity of two graphs with a single node removed and all attributes modified is 0.6666666666666666\n",
      "Similarity of two graphs with a single node removed and all attributes modified is 0.6291342872277007\n",
      "Similarity of two graphs with a single node removed and all attributes modified is 0.7429329562106962\n",
      "Similarity of two graphs with a single node removed and all attributes modified is 0.6616167640139134\n",
      "Similarity of two graphs with a single node removed and all attributes modified is 0.6191134022561045\n",
      "Similarity of two graphs with a single node removed and all attributes modified is 0.9767328030946411\n",
      "Similarity of two graphs with a single node removed and all attributes modified is 0.66246293696866\n",
      "Similarity of two graphs with a single node removed and all attributes modified is 0.76784374434011\n",
      "Mean similarity of two graphs with a single node removed and all attributes modified is 0.740912456177158\n"
     ]
    }
   ],
   "source": [
    "gs_kernel.fit_transform(X.data) # Rntest×Rntrain\n",
    "X_modified =  modify_attributes_grakels(X_modified)\n",
    "X_Xm_similarity_matrix = gs_kernel.transform(X_modified.data) # Rntest×Rntrain\n",
    "random_graphs =  np.random.randint(0, len(X_Xm_similarity_matrix), size=(10))\n",
    "for i in random_graphs:\n",
    "     print(f\"Similarity of two graphs with a single node removed and all attributes modified is {X_Xm_similarity_matrix[i,i]}\")\n",
    "print(f\"Mean similarity of two graphs with a single node removed and all attributes modified is {mean_similarity_graph(X_Xm_similarity_matrix)}\")"
   ]
  },
  {
   "cell_type": "markdown",
   "metadata": {},
   "source": [
    "### Edge Histogram Kernel"
   ]
  },
  {
   "cell_type": "markdown",
   "metadata": {},
   "source": [
    "The edge histogram kernel is a basic linear kernel on edge label histograms. The kernel assumes edge-labeled graphs. Let G be a collection of graphs, and assume that each of their edges comes from an abstract edge space E. Given a set of node labels L, ℓ:E→L is a function that assigns labels to the edges of the graphs. Assume that there are d labels in total, that is d=|L|. Then, the edge label histogram of a graph G=(V,E) is a vector f=(f1,f2,…,fd), such that fi=|{(v,u)∈E:ℓ(v,u)=i}| for each i∈L. Let f,f′ be the edge label histograms of two graphs G,G′, respectively. \n",
    "The edge histogram kernel is then defined as the linear kernel between f and f′, that is\n",
    "\n",
    "k(G,G′)=⟨f,f′⟩\n",
    "The complexity of the edge histogram kernel is linear in the number of edges of the graphs."
   ]
  },
  {
   "cell_type": "code",
   "execution_count": 64,
   "metadata": {},
   "outputs": [
    {
     "name": "stdout",
     "output_type": "stream",
     "text": [
      "Similarity of two graphs with a single node removed and all attributes modified is 1.0\n",
      "Similarity of two graphs with a single node removed and all attributes modified is 1.0\n",
      "Similarity of two graphs with a single node removed and all attributes modified is 1.0\n",
      "Similarity of two graphs with a single node removed and all attributes modified is 1.0\n",
      "Similarity of two graphs with a single node removed and all attributes modified is 1.0\n",
      "Similarity of two graphs with a single node removed and all attributes modified is 1.0\n",
      "Similarity of two graphs with a single node removed and all attributes modified is 1.0\n",
      "Similarity of two graphs with a single node removed and all attributes modified is 1.0\n",
      "Similarity of two graphs with a single node removed and all attributes modified is 1.0\n",
      "Similarity of two graphs with a single node removed and all attributes modified is 1.0\n",
      "Mean similarity of two graphs with a single node removed and all attributes modified is 0.9999998797946004\n"
     ]
    }
   ],
   "source": [
    "eh_kernel = GraphKernel(kernel=dict(name=\"edge_histogram\"),normalize = True)\n",
    "eh_kernel.fit_transform(X.data) # Rntest×Rntrain\n",
    "X_Xm_similarity_matrix = eh_kernel.transform(X_modified.data) # Rntest×Rntrain\n",
    "random_graphs =  np.random.randint(0, len(X_Xm_similarity_matrix), size=(10))\n",
    "for i in random_graphs:\n",
    "     print(f\"Similarity of two graphs with a single node removed and all attributes modified is {X_Xm_similarity_matrix[i,i]}\")\n",
    "print(f\"Mean similarity of two graphs with a single node removed and all attributes modified is {mean_similarity_graph(X_Xm_similarity_matrix)}\")"
   ]
  },
  {
   "cell_type": "markdown",
   "metadata": {},
   "source": [
    "## Conclusion on graph kernels (based on sub-graph matching but generalizable)\n",
    "The main issue of the graph Kernels is the time complexity.\n",
    "The runtime of the subgraph matching kernel depends on the number of cliques in the product graph. The worst-case runtime complexity of the kernel when considering subgraphs of size up to k is O(knk+1), where n=|V|+|V′| is the sum of the number of vertices of the two graphs.\n",
    "If we are testing the graph kernel for a test graph (when it was already fitted), the time complexity is not a very big issue.\n",
    "Otherwise, the exact sub-graph matching seem to show very good results unless the attributes are modified. \n",
    "\n",
    "There are lots of kernels to test and try and indeed I cannot say that I understand them very good, but they do not contain any 'learning' unlike the graph embedding methods. They can definetively be used for our retrieval scenario.\n",
    "\n",
    "\n"
   ]
  },
  {
   "cell_type": "code",
   "execution_count": null,
   "metadata": {},
   "outputs": [],
   "source": []
  }
 ],
 "metadata": {
  "kernelspec": {
   "display_name": "Python 3",
   "language": "python",
   "name": "python3"
  },
  "language_info": {
   "codemirror_mode": {
    "name": "ipython",
    "version": 3
   },
   "file_extension": ".py",
   "mimetype": "text/x-python",
   "name": "python",
   "nbconvert_exporter": "python",
   "pygments_lexer": "ipython3",
   "version": "3.7.6"
  }
 },
 "nbformat": 4,
 "nbformat_minor": 2
}
